{
 "cells": [
  {
   "cell_type": "markdown",
   "id": "bfb3d139",
   "metadata": {},
   "source": [
    "# Calculations\n",
    "\n",
    "For this part of the test we will be using the data in the height_data.csv file.\n",
    "\n",
    "For the 3 questions:\n",
    "\n",
    "Calculate the answer to each question\n",
    "We would like to see the method you used to calculate your answer\n",
    "Please note any assumptions or choices you made in your response\n",
    "Questions:\n",
    "\n",
    "What fraction of countries in Europe have an average height above 175cm?\n",
    "\n",
    "Which continent has the highest fraction of countries where 50% or more of the members of group A are above the height of 162cm\n",
    "\n",
    "\n",
    "What can you conclude about the difference in height for members of group B between South America and North America?\n"
   ]
  },
  {
   "cell_type": "code",
   "execution_count": 1,
   "id": "e9aad95f",
   "metadata": {},
   "outputs": [],
   "source": [
    "import pandas as pd\n",
    "import numpy as np\n",
    "import matplotlib.pyplot as plt"
   ]
  },
  {
   "cell_type": "code",
   "execution_count": 2,
   "id": "ae297fcd",
   "metadata": {},
   "outputs": [],
   "source": [
    "height_data = pd.read_csv(r\"C:\\Users\\manso\\OneDrive\\Desktop\\Assisment Interview data\\height_data.csv\")"
   ]
  },
  {
   "cell_type": "code",
   "execution_count": 3,
   "id": "7bfe8455",
   "metadata": {},
   "outputs": [
    {
     "data": {
      "text/html": [
       "<div>\n",
       "<style scoped>\n",
       "    .dataframe tbody tr th:only-of-type {\n",
       "        vertical-align: middle;\n",
       "    }\n",
       "\n",
       "    .dataframe tbody tr th {\n",
       "        vertical-align: top;\n",
       "    }\n",
       "\n",
       "    .dataframe thead th {\n",
       "        text-align: right;\n",
       "    }\n",
       "</style>\n",
       "<table border=\"1\" class=\"dataframe\">\n",
       "  <thead>\n",
       "    <tr style=\"text-align: right;\">\n",
       "      <th></th>\n",
       "      <th>id</th>\n",
       "      <th>country</th>\n",
       "      <th>continent</th>\n",
       "      <th>group</th>\n",
       "      <th>height_cm</th>\n",
       "    </tr>\n",
       "  </thead>\n",
       "  <tbody>\n",
       "    <tr>\n",
       "      <th>0</th>\n",
       "      <td>11851</td>\n",
       "      <td>Switzerland</td>\n",
       "      <td>Europe</td>\n",
       "      <td>A</td>\n",
       "      <td>165</td>\n",
       "    </tr>\n",
       "    <tr>\n",
       "      <th>1</th>\n",
       "      <td>12539</td>\n",
       "      <td>Portugal</td>\n",
       "      <td>Europe</td>\n",
       "      <td>A</td>\n",
       "      <td>161</td>\n",
       "    </tr>\n",
       "    <tr>\n",
       "      <th>2</th>\n",
       "      <td>12847</td>\n",
       "      <td>Malawi</td>\n",
       "      <td>Africa</td>\n",
       "      <td>A</td>\n",
       "      <td>155</td>\n",
       "    </tr>\n",
       "    <tr>\n",
       "      <th>3</th>\n",
       "      <td>9578</td>\n",
       "      <td>Saint Vincent and the Grenadines</td>\n",
       "      <td>North America</td>\n",
       "      <td>B</td>\n",
       "      <td>179</td>\n",
       "    </tr>\n",
       "    <tr>\n",
       "      <th>4</th>\n",
       "      <td>16957</td>\n",
       "      <td>Moldova</td>\n",
       "      <td>Europe</td>\n",
       "      <td>A</td>\n",
       "      <td>164</td>\n",
       "    </tr>\n",
       "    <tr>\n",
       "      <th>...</th>\n",
       "      <td>...</td>\n",
       "      <td>...</td>\n",
       "      <td>...</td>\n",
       "      <td>...</td>\n",
       "      <td>...</td>\n",
       "    </tr>\n",
       "    <tr>\n",
       "      <th>18595</th>\n",
       "      <td>7109</td>\n",
       "      <td>Bhutan</td>\n",
       "      <td>Asia</td>\n",
       "      <td>A</td>\n",
       "      <td>156</td>\n",
       "    </tr>\n",
       "    <tr>\n",
       "      <th>18596</th>\n",
       "      <td>6224</td>\n",
       "      <td>Rwanda</td>\n",
       "      <td>Africa</td>\n",
       "      <td>B</td>\n",
       "      <td>167</td>\n",
       "    </tr>\n",
       "    <tr>\n",
       "      <th>18597</th>\n",
       "      <td>10697</td>\n",
       "      <td>Samoa</td>\n",
       "      <td>Oceania</td>\n",
       "      <td>A</td>\n",
       "      <td>161</td>\n",
       "    </tr>\n",
       "    <tr>\n",
       "      <th>18598</th>\n",
       "      <td>11373</td>\n",
       "      <td>Mauritius</td>\n",
       "      <td>Africa</td>\n",
       "      <td>A</td>\n",
       "      <td>157</td>\n",
       "    </tr>\n",
       "    <tr>\n",
       "      <th>18599</th>\n",
       "      <td>1543</td>\n",
       "      <td>Burundi</td>\n",
       "      <td>Africa</td>\n",
       "      <td>A</td>\n",
       "      <td>155</td>\n",
       "    </tr>\n",
       "  </tbody>\n",
       "</table>\n",
       "<p>18600 rows × 5 columns</p>\n",
       "</div>"
      ],
      "text/plain": [
       "          id                           country      continent group  height_cm\n",
       "0      11851                       Switzerland         Europe     A        165\n",
       "1      12539                          Portugal         Europe     A        161\n",
       "2      12847                            Malawi         Africa     A        155\n",
       "3       9578  Saint Vincent and the Grenadines  North America     B        179\n",
       "4      16957                           Moldova         Europe     A        164\n",
       "...      ...                               ...            ...   ...        ...\n",
       "18595   7109                            Bhutan           Asia     A        156\n",
       "18596   6224                            Rwanda         Africa     B        167\n",
       "18597  10697                             Samoa        Oceania     A        161\n",
       "18598  11373                         Mauritius         Africa     A        157\n",
       "18599   1543                           Burundi         Africa     A        155\n",
       "\n",
       "[18600 rows x 5 columns]"
      ]
     },
     "execution_count": 3,
     "metadata": {},
     "output_type": "execute_result"
    }
   ],
   "source": [
    "height_data"
   ]
  },
  {
   "cell_type": "code",
   "execution_count": 49,
   "id": "3de3a8e5",
   "metadata": {},
   "outputs": [
    {
     "data": {
      "text/plain": [
       "array(['Europe', 'Africa', 'North America', 'Asia', 'Oceania',\n",
       "       'South America'], dtype=object)"
      ]
     },
     "execution_count": 49,
     "metadata": {},
     "output_type": "execute_result"
    }
   ],
   "source": [
    "height_data.continent.unique()"
   ]
  },
  {
   "cell_type": "markdown",
   "id": "78a66750",
   "metadata": {},
   "source": [
    "# Taking Only European Contininet Contries  "
   ]
  },
  {
   "cell_type": "code",
   "execution_count": 104,
   "id": "8ad36bc1",
   "metadata": {},
   "outputs": [],
   "source": [
    "Europe_df = height_data.loc[height_data['continent'] == 'Europe']"
   ]
  },
  {
   "cell_type": "code",
   "execution_count": 105,
   "id": "eee5e961",
   "metadata": {},
   "outputs": [
    {
     "data": {
      "text/html": [
       "<div>\n",
       "<style scoped>\n",
       "    .dataframe tbody tr th:only-of-type {\n",
       "        vertical-align: middle;\n",
       "    }\n",
       "\n",
       "    .dataframe tbody tr th {\n",
       "        vertical-align: top;\n",
       "    }\n",
       "\n",
       "    .dataframe thead th {\n",
       "        text-align: right;\n",
       "    }\n",
       "</style>\n",
       "<table border=\"1\" class=\"dataframe\">\n",
       "  <thead>\n",
       "    <tr style=\"text-align: right;\">\n",
       "      <th></th>\n",
       "      <th>id</th>\n",
       "      <th>country</th>\n",
       "      <th>continent</th>\n",
       "      <th>group</th>\n",
       "      <th>height_cm</th>\n",
       "    </tr>\n",
       "  </thead>\n",
       "  <tbody>\n",
       "    <tr>\n",
       "      <th>0</th>\n",
       "      <td>11851</td>\n",
       "      <td>Switzerland</td>\n",
       "      <td>Europe</td>\n",
       "      <td>A</td>\n",
       "      <td>165</td>\n",
       "    </tr>\n",
       "    <tr>\n",
       "      <th>1</th>\n",
       "      <td>12539</td>\n",
       "      <td>Portugal</td>\n",
       "      <td>Europe</td>\n",
       "      <td>A</td>\n",
       "      <td>161</td>\n",
       "    </tr>\n",
       "    <tr>\n",
       "      <th>4</th>\n",
       "      <td>16957</td>\n",
       "      <td>Moldova</td>\n",
       "      <td>Europe</td>\n",
       "      <td>A</td>\n",
       "      <td>164</td>\n",
       "    </tr>\n",
       "    <tr>\n",
       "      <th>16</th>\n",
       "      <td>7158</td>\n",
       "      <td>Denmark</td>\n",
       "      <td>Europe</td>\n",
       "      <td>B</td>\n",
       "      <td>182</td>\n",
       "    </tr>\n",
       "    <tr>\n",
       "      <th>22</th>\n",
       "      <td>16385</td>\n",
       "      <td>Armenia</td>\n",
       "      <td>Europe</td>\n",
       "      <td>A</td>\n",
       "      <td>159</td>\n",
       "    </tr>\n",
       "    <tr>\n",
       "      <th>...</th>\n",
       "      <td>...</td>\n",
       "      <td>...</td>\n",
       "      <td>...</td>\n",
       "      <td>...</td>\n",
       "      <td>...</td>\n",
       "    </tr>\n",
       "    <tr>\n",
       "      <th>18583</th>\n",
       "      <td>12067</td>\n",
       "      <td>Italy</td>\n",
       "      <td>Europe</td>\n",
       "      <td>A</td>\n",
       "      <td>161</td>\n",
       "    </tr>\n",
       "    <tr>\n",
       "      <th>18584</th>\n",
       "      <td>10804</td>\n",
       "      <td>Armenia</td>\n",
       "      <td>Europe</td>\n",
       "      <td>B</td>\n",
       "      <td>174</td>\n",
       "    </tr>\n",
       "    <tr>\n",
       "      <th>18587</th>\n",
       "      <td>13654</td>\n",
       "      <td>Portugal</td>\n",
       "      <td>Europe</td>\n",
       "      <td>B</td>\n",
       "      <td>174</td>\n",
       "    </tr>\n",
       "    <tr>\n",
       "      <th>18588</th>\n",
       "      <td>4007</td>\n",
       "      <td>Serbia</td>\n",
       "      <td>Europe</td>\n",
       "      <td>A</td>\n",
       "      <td>169</td>\n",
       "    </tr>\n",
       "    <tr>\n",
       "      <th>18594</th>\n",
       "      <td>15029</td>\n",
       "      <td>Iceland</td>\n",
       "      <td>Europe</td>\n",
       "      <td>A</td>\n",
       "      <td>170</td>\n",
       "    </tr>\n",
       "  </tbody>\n",
       "</table>\n",
       "<p>4100 rows × 5 columns</p>\n",
       "</div>"
      ],
      "text/plain": [
       "          id      country continent group  height_cm\n",
       "0      11851  Switzerland    Europe     A        165\n",
       "1      12539     Portugal    Europe     A        161\n",
       "4      16957      Moldova    Europe     A        164\n",
       "16      7158      Denmark    Europe     B        182\n",
       "22     16385      Armenia    Europe     A        159\n",
       "...      ...          ...       ...   ...        ...\n",
       "18583  12067        Italy    Europe     A        161\n",
       "18584  10804      Armenia    Europe     B        174\n",
       "18587  13654     Portugal    Europe     B        174\n",
       "18588   4007       Serbia    Europe     A        169\n",
       "18594  15029      Iceland    Europe     A        170\n",
       "\n",
       "[4100 rows x 5 columns]"
      ]
     },
     "execution_count": 105,
     "metadata": {},
     "output_type": "execute_result"
    }
   ],
   "source": [
    "Europe_df"
   ]
  },
  {
   "cell_type": "markdown",
   "id": "8b1b7ec6",
   "metadata": {},
   "source": [
    "# Dataset has 41 European Countries "
   ]
  },
  {
   "cell_type": "code",
   "execution_count": 106,
   "id": "cb49aaf1",
   "metadata": {},
   "outputs": [
    {
     "name": "stdout",
     "output_type": "stream",
     "text": [
      "id           4100\n",
      "country        41\n",
      "continent       1\n",
      "group           2\n",
      "height_cm      35\n",
      "dtype: int64\n"
     ]
    }
   ],
   "source": [
    "print(Europe_df.nunique())"
   ]
  },
  {
   "cell_type": "code",
   "execution_count": 107,
   "id": "4dbc9b82",
   "metadata": {},
   "outputs": [
    {
     "data": {
      "text/html": [
       "<div>\n",
       "<style scoped>\n",
       "    .dataframe tbody tr th:only-of-type {\n",
       "        vertical-align: middle;\n",
       "    }\n",
       "\n",
       "    .dataframe tbody tr th {\n",
       "        vertical-align: top;\n",
       "    }\n",
       "\n",
       "    .dataframe thead th {\n",
       "        text-align: right;\n",
       "    }\n",
       "</style>\n",
       "<table border=\"1\" class=\"dataframe\">\n",
       "  <thead>\n",
       "    <tr style=\"text-align: right;\">\n",
       "      <th></th>\n",
       "      <th>count</th>\n",
       "      <th>unique</th>\n",
       "      <th>top</th>\n",
       "      <th>freq</th>\n",
       "      <th>mean</th>\n",
       "      <th>std</th>\n",
       "      <th>min</th>\n",
       "      <th>25%</th>\n",
       "      <th>50%</th>\n",
       "      <th>75%</th>\n",
       "      <th>max</th>\n",
       "    </tr>\n",
       "  </thead>\n",
       "  <tbody>\n",
       "    <tr>\n",
       "      <th>id</th>\n",
       "      <td>4100.0</td>\n",
       "      <td>NaN</td>\n",
       "      <td>NaN</td>\n",
       "      <td>NaN</td>\n",
       "      <td>9277.036585</td>\n",
       "      <td>5369.949943</td>\n",
       "      <td>2.0</td>\n",
       "      <td>4612.75</td>\n",
       "      <td>9291.5</td>\n",
       "      <td>13912.25</td>\n",
       "      <td>18581.0</td>\n",
       "    </tr>\n",
       "    <tr>\n",
       "      <th>country</th>\n",
       "      <td>4100</td>\n",
       "      <td>41</td>\n",
       "      <td>Switzerland</td>\n",
       "      <td>100</td>\n",
       "      <td>NaN</td>\n",
       "      <td>NaN</td>\n",
       "      <td>NaN</td>\n",
       "      <td>NaN</td>\n",
       "      <td>NaN</td>\n",
       "      <td>NaN</td>\n",
       "      <td>NaN</td>\n",
       "    </tr>\n",
       "    <tr>\n",
       "      <th>continent</th>\n",
       "      <td>4100</td>\n",
       "      <td>1</td>\n",
       "      <td>Europe</td>\n",
       "      <td>4100</td>\n",
       "      <td>NaN</td>\n",
       "      <td>NaN</td>\n",
       "      <td>NaN</td>\n",
       "      <td>NaN</td>\n",
       "      <td>NaN</td>\n",
       "      <td>NaN</td>\n",
       "      <td>NaN</td>\n",
       "    </tr>\n",
       "    <tr>\n",
       "      <th>group</th>\n",
       "      <td>4100</td>\n",
       "      <td>2</td>\n",
       "      <td>A</td>\n",
       "      <td>2050</td>\n",
       "      <td>NaN</td>\n",
       "      <td>NaN</td>\n",
       "      <td>NaN</td>\n",
       "      <td>NaN</td>\n",
       "      <td>NaN</td>\n",
       "      <td>NaN</td>\n",
       "      <td>NaN</td>\n",
       "    </tr>\n",
       "    <tr>\n",
       "      <th>height_cm</th>\n",
       "      <td>4100.0</td>\n",
       "      <td>NaN</td>\n",
       "      <td>NaN</td>\n",
       "      <td>NaN</td>\n",
       "      <td>171.58561</td>\n",
       "      <td>7.464267</td>\n",
       "      <td>156.0</td>\n",
       "      <td>165.0</td>\n",
       "      <td>170.0</td>\n",
       "      <td>179.0</td>\n",
       "      <td>190.0</td>\n",
       "    </tr>\n",
       "  </tbody>\n",
       "</table>\n",
       "</div>"
      ],
      "text/plain": [
       "            count unique          top  freq         mean          std    min  \\\n",
       "id         4100.0    NaN          NaN   NaN  9277.036585  5369.949943    2.0   \n",
       "country      4100     41  Switzerland   100          NaN          NaN    NaN   \n",
       "continent    4100      1       Europe  4100          NaN          NaN    NaN   \n",
       "group        4100      2            A  2050          NaN          NaN    NaN   \n",
       "height_cm  4100.0    NaN          NaN   NaN    171.58561     7.464267  156.0   \n",
       "\n",
       "               25%     50%       75%      max  \n",
       "id         4612.75  9291.5  13912.25  18581.0  \n",
       "country        NaN     NaN       NaN      NaN  \n",
       "continent      NaN     NaN       NaN      NaN  \n",
       "group          NaN     NaN       NaN      NaN  \n",
       "height_cm    165.0   170.0     179.0    190.0  "
      ]
     },
     "execution_count": 107,
     "metadata": {},
     "output_type": "execute_result"
    }
   ],
   "source": [
    "Europe_df.describe(include='all').T"
   ]
  },
  {
   "cell_type": "code",
   "execution_count": 138,
   "id": "f28f4e81",
   "metadata": {},
   "outputs": [],
   "source": [
    "df = Europe_df.groupby('country')[\"height_cm\"].mean()"
   ]
  },
  {
   "cell_type": "code",
   "execution_count": 140,
   "id": "60786c37",
   "metadata": {},
   "outputs": [
    {
     "data": {
      "text/plain": [
       "<AxesSubplot:xlabel='country'>"
      ]
     },
     "execution_count": 140,
     "metadata": {},
     "output_type": "execute_result"
    },
    {
     "data": {
      "image/png": "[encoded data removed]",
      "text/plain": [
       "<Figure size 864x720 with 1 Axes>"
      ]
     },
     "metadata": {
      "needs_background": "light"
     },
     "output_type": "display_data"
    }
   ],
   "source": [
    "df.plot(figsize=(12,10))"
   ]
  },
  {
   "cell_type": "code",
   "execution_count": 152,
   "id": "37c6db46",
   "metadata": {},
   "outputs": [
    {
     "data": {
      "text/plain": [
       "country\n",
       "Albania                   167.78\n",
       "Andorra                   171.85\n",
       "Armenia                   166.15\n",
       "Austria                   172.20\n",
       "Azerbaijan                167.07\n",
       "Belarus                   172.45\n",
       "Belgium                   170.72\n",
       "Bosnia and Herzegovina    174.29\n",
       "Bulgaria                  169.77\n",
       "Croatia                   173.11\n",
       "Cyprus                    166.45\n",
       "Czech Republic            174.14\n",
       "Denmark                   175.14\n",
       "Estonia                   175.11\n",
       "Finland                   173.10\n",
       "France                    171.22\n",
       "Georgia                   169.03\n",
       "Germany                   172.95\n",
       "Greece                    172.06\n",
       "Hungary                   170.02\n",
       "Iceland                   175.08\n",
       "Ireland                   171.42\n",
       "Italy                     167.61\n",
       "Latvia                    174.34\n",
       "Lithuania                 173.82\n",
       "Luxembourg                171.33\n",
       "Malta                     169.36\n",
       "Moldova                   168.95\n",
       "Netherlands               176.52\n",
       "Norway                    172.93\n",
       "Poland                    172.71\n",
       "Portugal                  167.25\n",
       "Romania                   170.80\n",
       "Serbia                    174.14\n",
       "Slovakia                  173.71\n",
       "Slovenia                  173.71\n",
       "Spain                     168.57\n",
       "Sweden                    173.15\n",
       "Switzerland               170.91\n",
       "Ukraine                   173.40\n",
       "United Kingdom            170.69\n",
       "Name: height_cm, dtype: float64"
      ]
     },
     "execution_count": 152,
     "metadata": {},
     "output_type": "execute_result"
    }
   ],
   "source": [
    "df"
   ]
  },
  {
   "cell_type": "markdown",
   "id": "951723a9",
   "metadata": {},
   "source": [
    "# What fraction of countries in Europe have an average height above 175cm?"
   ]
  },
  {
   "cell_type": "code",
   "execution_count": 158,
   "id": "d4038cfc",
   "metadata": {},
   "outputs": [
    {
     "data": {
      "text/plain": [
       "country\n",
       "Denmark        175.14\n",
       "Estonia        175.11\n",
       "Iceland        175.08\n",
       "Netherlands    176.52\n",
       "Name: height_cm, dtype: float64"
      ]
     },
     "execution_count": 158,
     "metadata": {},
     "output_type": "execute_result"
    }
   ],
   "source": [
    "df[df >175]"
   ]
  },
  {
   "cell_type": "code",
   "execution_count": 162,
   "id": "7353dd87",
   "metadata": {},
   "outputs": [],
   "source": [
    "Fraction_of_countires = 4/41"
   ]
  },
  {
   "cell_type": "code",
   "execution_count": 163,
   "id": "31fc091d",
   "metadata": {},
   "outputs": [
    {
     "name": "stdout",
     "output_type": "stream",
     "text": [
      "fraction of countries in Europe have an average height above 175cm: 0.0975609756097561\n"
     ]
    }
   ],
   "source": [
    "print('fraction of countries in Europe have an average height above 175cm:',Fraction_of_countires)"
   ]
  },
  {
   "cell_type": "code",
   "execution_count": null,
   "id": "319246e4",
   "metadata": {},
   "outputs": [],
   "source": []
  },
  {
   "cell_type": "code",
   "execution_count": null,
   "id": "2225a1d4",
   "metadata": {},
   "outputs": [],
   "source": []
  },
  {
   "cell_type": "code",
   "execution_count": 156,
   "id": "a9551e70",
   "metadata": {},
   "outputs": [],
   "source": [
    "#countries_avg_height = Europe_df['country']\n",
    "#for country in countries_avg_height:\n",
    "    #print(country,'-->','%.2f'%(Europe_df[Europe_df.country==country]['height_cm'].mean()))"
   ]
  },
  {
   "cell_type": "markdown",
   "id": "41f05d1c",
   "metadata": {},
   "source": [
    "# Which continent has the highest fraction of countries where 50% or more of the members of group A are above the height of 162cm"
   ]
  },
  {
   "cell_type": "code",
   "execution_count": 60,
   "id": "fb1b6539",
   "metadata": {},
   "outputs": [],
   "source": [
    "Europe_df = height_data.loc[height_data['continent'] == 'Europe']\n",
    "Africa_df = height_data.loc[height_data['continent'] == 'Africa']\n",
    "Oceania_df = height_data.loc[height_data['continent'] == 'Oceania']\n",
    "Asia_df =  height_data.loc[height_data['continent'] == 'Asia']\n",
    "Northam_df =  height_data.loc[height_data['continent'] == 'North America']\n",
    "Southam_df =  height_data.loc[height_data['continent'] == 'South America']"
   ]
  },
  {
   "cell_type": "markdown",
   "id": "984b9ab4",
   "metadata": {},
   "source": [
    "# Taking Group A height only"
   ]
  },
  {
   "cell_type": "code",
   "execution_count": 83,
   "id": "26d91a77",
   "metadata": {},
   "outputs": [],
   "source": [
    "EU_groupA = Europe_df.loc[Europe_df['group']=='A'] \n",
    "AF_groupA = Africa_df.loc[Africa_df['group']=='A'] \n",
    "Oceania_groupA = Oceania_df.loc[Oceania_df['group']=='A'] \n",
    "Southam_groupA =Southam_df.loc[Southam_df['group']=='A'] \n",
    "Northam_groupA =Northam_df.loc[Northam_df['group']=='A'] \n",
    "Asia_groupA =Asia_df.loc[Asia_df['group']=='A'] "
   ]
  },
  {
   "cell_type": "code",
   "execution_count": 82,
   "id": "6b3b76de",
   "metadata": {},
   "outputs": [
    {
     "data": {
      "text/plain": [
       "count    2050.000000\n",
       "mean      164.916585\n",
       "std         3.022991\n",
       "min       156.000000\n",
       "25%       163.000000\n",
       "50%       165.000000\n",
       "75%       167.000000\n",
       "max       174.000000\n",
       "Name: height_cm, dtype: float64"
      ]
     },
     "execution_count": 82,
     "metadata": {},
     "output_type": "execute_result"
    }
   ],
   "source": [
    "EU_groupA.height_cm.describe(include='all').T"
   ]
  },
  {
   "cell_type": "code",
   "execution_count": 164,
   "id": "0a69692a",
   "metadata": {},
   "outputs": [
    {
     "data": {
      "text/plain": [
       "count    1250.000000\n",
       "mean      174.096800\n",
       "std         4.824153\n",
       "min       161.000000\n",
       "25%       171.000000\n",
       "50%       174.000000\n",
       "75%       177.000000\n",
       "max       191.000000\n",
       "Name: height_cm, dtype: float64"
      ]
     },
     "execution_count": 164,
     "metadata": {},
     "output_type": "execute_result"
    }
   ],
   "source": [
    "Northam_groupA.height_cm.describe(include='all').T"
   ]
  },
  {
   "cell_type": "code",
   "execution_count": 165,
   "id": "3204e2fa",
   "metadata": {},
   "outputs": [
    {
     "data": {
      "text/plain": [
       "count    800.000000\n",
       "mean     161.790000\n",
       "std        4.198563\n",
       "min      152.000000\n",
       "25%      158.000000\n",
       "50%      163.000000\n",
       "75%      165.000000\n",
       "max      170.000000\n",
       "Name: height_cm, dtype: float64"
      ]
     },
     "execution_count": 165,
     "metadata": {},
     "output_type": "execute_result"
    }
   ],
   "source": [
    "Oceania_groupA.height_cm.describe(include='all').T"
   ]
  },
  {
   "cell_type": "code",
   "execution_count": 166,
   "id": "12c54e47",
   "metadata": {},
   "outputs": [],
   "source": [
    "df_eu_A = EU_groupA.groupby('country')[\"height_cm\"].mean()"
   ]
  },
  {
   "cell_type": "code",
   "execution_count": 169,
   "id": "d6a9a8d2",
   "metadata": {},
   "outputs": [
    {
     "data": {
      "text/plain": [
       "country\n",
       "Andorra                   165.22\n",
       "Austria                   166.52\n",
       "Belarus                   166.56\n",
       "Belgium                   162.88\n",
       "Bosnia and Herzegovina    166.74\n",
       "Bulgaria                  164.82\n",
       "Croatia                   166.02\n",
       "Czech Republic            167.58\n",
       "Denmark                   168.84\n",
       "Estonia                   167.92\n",
       "Finland                   166.04\n",
       "France                    164.08\n",
       "Georgia                   162.66\n",
       "Germany                   165.88\n",
       "Greece                    165.26\n",
       "Hungary                   163.38\n",
       "Iceland                   168.32\n",
       "Ireland                   164.28\n",
       "Latvia                    168.38\n",
       "Lithuania                 167.10\n",
       "Luxembourg                164.66\n",
       "Malta                     163.58\n",
       "Moldova                   162.50\n",
       "Netherlands               169.68\n",
       "Norway                    165.88\n",
       "Poland                    165.28\n",
       "Romania                   164.16\n",
       "Serbia                    168.02\n",
       "Slovakia                  166.78\n",
       "Slovenia                  166.78\n",
       "Sweden                    166.20\n",
       "Switzerland               163.56\n",
       "Ukraine                   166.24\n",
       "United Kingdom            163.64\n",
       "Name: height_cm, dtype: float64"
      ]
     },
     "execution_count": 169,
     "metadata": {},
     "output_type": "execute_result"
    }
   ],
   "source": [
    "df_eu_A[df_eu_A>162]"
   ]
  },
  {
   "cell_type": "code",
   "execution_count": 170,
   "id": "95e5e1ff",
   "metadata": {},
   "outputs": [
    {
     "data": {
      "text/plain": [
       "34"
      ]
     },
     "execution_count": 170,
     "metadata": {},
     "output_type": "execute_result"
    }
   ],
   "source": [
    "df_eu_A[df_eu_A>162].count() #European Countries height above 162 cm in Group A"
   ]
  },
  {
   "cell_type": "code",
   "execution_count": 175,
   "id": "07335849",
   "metadata": {},
   "outputs": [
    {
     "name": "stdout",
     "output_type": "stream",
     "text": [
      "id           2050\n",
      "country        41\n",
      "continent       1\n",
      "group           1\n",
      "height_cm      19\n",
      "dtype: int64\n"
     ]
    }
   ],
   "source": [
    "print(EU_groupA .nunique())"
   ]
  },
  {
   "cell_type": "code",
   "execution_count": 185,
   "id": "f7e9d503",
   "metadata": {},
   "outputs": [
    {
     "name": "stdout",
     "output_type": "stream",
     "text": [
      "fraction of countries in Europe have an average height above 162cm: 0.8292682926829268\n"
     ]
    }
   ],
   "source": [
    "fraction_EU_GroupA = 34/41\n",
    "print('fraction of countries in Europe have an average height above 162cm:',fraction_EU_GroupA)"
   ]
  },
  {
   "cell_type": "code",
   "execution_count": 171,
   "id": "b0158e98",
   "metadata": {},
   "outputs": [],
   "source": [
    "df_North_A = Northam_groupA.groupby('country')[\"height_cm\"].mean()"
   ]
  },
  {
   "cell_type": "code",
   "execution_count": 172,
   "id": "b904489d",
   "metadata": {},
   "outputs": [
    {
     "data": {
      "text/plain": [
       "country\n",
       "Antigua and Barbuda                 178.78\n",
       "Barbados                            176.48\n",
       "Belize                              170.42\n",
       "Bermuda                             180.16\n",
       "Canada                              178.12\n",
       "Costa Rica                          173.40\n",
       "Cuba                                172.96\n",
       "Dominica                            179.46\n",
       "Dominican Republic                  173.82\n",
       "El Salvador                         170.26\n",
       "Greenland                           172.84\n",
       "Grenada                             177.76\n",
       "Guatemala                           163.78\n",
       "Haiti                               172.38\n",
       "Honduras                            169.02\n",
       "Jamaica                             176.96\n",
       "Mexico                              169.84\n",
       "Nicaragua                           168.84\n",
       "Panama                              169.78\n",
       "Puerto Rico                         178.92\n",
       "Saint Kitts and Nevis               173.30\n",
       "Saint Lucia                         175.66\n",
       "Saint Vincent and the Grenadines    177.40\n",
       "Trinidad and Tobago                 175.58\n",
       "United States                       176.50\n",
       "Name: height_cm, dtype: float64"
      ]
     },
     "execution_count": 172,
     "metadata": {},
     "output_type": "execute_result"
    }
   ],
   "source": [
    "df_North_A[df_North_A>162]"
   ]
  },
  {
   "cell_type": "code",
   "execution_count": 173,
   "id": "22239b0b",
   "metadata": {},
   "outputs": [
    {
     "data": {
      "text/plain": [
       "25"
      ]
     },
     "execution_count": 173,
     "metadata": {},
     "output_type": "execute_result"
    }
   ],
   "source": [
    "df_North_A[df_North_A>162].count()"
   ]
  },
  {
   "cell_type": "code",
   "execution_count": 176,
   "id": "2d04ee9e",
   "metadata": {},
   "outputs": [
    {
     "name": "stdout",
     "output_type": "stream",
     "text": [
      "id           1250\n",
      "country        25\n",
      "continent       1\n",
      "group           1\n",
      "height_cm      31\n",
      "dtype: int64\n"
     ]
    }
   ],
   "source": [
    "print(Northam_groupA .nunique())"
   ]
  },
  {
   "cell_type": "code",
   "execution_count": 186,
   "id": "2444658b",
   "metadata": {},
   "outputs": [
    {
     "name": "stdout",
     "output_type": "stream",
     "text": [
      "fraction of countries in North America have an average height above 162cm: 1.0\n"
     ]
    }
   ],
   "source": [
    "fraction_NA_GroupA = 25/25\n",
    "print('fraction of countries in North America have an average height above 162cm:',fraction_NA_GroupA)"
   ]
  },
  {
   "cell_type": "code",
   "execution_count": 177,
   "id": "fbeecfd2",
   "metadata": {},
   "outputs": [],
   "source": [
    "df_Ocean_A = Oceania_groupA.groupby('country')[\"height_cm\"].mean()"
   ]
  },
  {
   "cell_type": "code",
   "execution_count": 178,
   "id": "a61eb031",
   "metadata": {},
   "outputs": [
    {
     "data": {
      "text/plain": [
       "country\n",
       "American Samoa      167.32\n",
       "Australia           164.30\n",
       "Cook Islands        167.00\n",
       "Fiji                163.54\n",
       "French Polynesia    166.14\n",
       "New Zealand         164.26\n",
       "Samoa               163.24\n",
       "Tonga               165.68\n",
       "Tuvalu              163.04\n",
       "Name: height_cm, dtype: float64"
      ]
     },
     "execution_count": 178,
     "metadata": {},
     "output_type": "execute_result"
    }
   ],
   "source": [
    "df_Ocean_A[df_Ocean_A>162]"
   ]
  },
  {
   "cell_type": "code",
   "execution_count": 179,
   "id": "557c8405",
   "metadata": {},
   "outputs": [
    {
     "data": {
      "text/plain": [
       "9"
      ]
     },
     "execution_count": 179,
     "metadata": {},
     "output_type": "execute_result"
    }
   ],
   "source": [
    "df_Ocean_A[df_Ocean_A>162].count()"
   ]
  },
  {
   "cell_type": "code",
   "execution_count": 180,
   "id": "8c34b7c4",
   "metadata": {},
   "outputs": [
    {
     "name": "stdout",
     "output_type": "stream",
     "text": [
      "id           800\n",
      "country       16\n",
      "continent      1\n",
      "group          1\n",
      "height_cm     19\n",
      "dtype: int64\n"
     ]
    }
   ],
   "source": [
    "print( Oceania_groupA .nunique())"
   ]
  },
  {
   "cell_type": "code",
   "execution_count": 187,
   "id": "5ebba264",
   "metadata": {},
   "outputs": [
    {
     "name": "stdout",
     "output_type": "stream",
     "text": [
      "fraction of countries in Oceana have an average height above 162cm: 0.5625\n"
     ]
    }
   ],
   "source": [
    "fraction_Ocean_GroupA = 9/16\n",
    "print('fraction of countries in Oceana have an average height above 162cm:',fraction_Ocean_GroupA )"
   ]
  },
  {
   "cell_type": "code",
   "execution_count": 84,
   "id": "cbbfe19d",
   "metadata": {},
   "outputs": [
    {
     "data": {
      "text/plain": [
       "count    2450.000000\n",
       "mean      158.737143\n",
       "std         2.867762\n",
       "min       149.000000\n",
       "25%       157.000000\n",
       "50%       159.000000\n",
       "75%       161.000000\n",
       "max       168.000000\n",
       "Name: height_cm, dtype: float64"
      ]
     },
     "execution_count": 84,
     "metadata": {},
     "output_type": "execute_result"
    }
   ],
   "source": [
    "AF_groupA.height_cm.describe(include='all').T"
   ]
  },
  {
   "cell_type": "code",
   "execution_count": 86,
   "id": "e33d1ee5",
   "metadata": {},
   "outputs": [
    {
     "data": {
      "text/plain": [
       "count    600.000000\n",
       "mean     158.623333\n",
       "std        2.822777\n",
       "min      153.000000\n",
       "25%      157.000000\n",
       "50%      159.000000\n",
       "75%      161.000000\n",
       "max      165.000000\n",
       "Name: height_cm, dtype: float64"
      ]
     },
     "execution_count": 86,
     "metadata": {},
     "output_type": "execute_result"
    }
   ],
   "source": [
    "Southam_groupA.height_cm.describe(include='all').T"
   ]
  },
  {
   "cell_type": "code",
   "execution_count": 88,
   "id": "ed2b29fa",
   "metadata": {},
   "outputs": [
    {
     "data": {
      "text/plain": [
       "count    2150.000000\n",
       "mean      157.978605\n",
       "std         3.569754\n",
       "min       151.000000\n",
       "25%       155.000000\n",
       "50%       158.000000\n",
       "75%       161.000000\n",
       "max       170.000000\n",
       "Name: height_cm, dtype: float64"
      ]
     },
     "execution_count": 88,
     "metadata": {},
     "output_type": "execute_result"
    }
   ],
   "source": [
    "Asia_groupA.height_cm.describe(include='all').T"
   ]
  },
  {
   "cell_type": "code",
   "execution_count": null,
   "id": "29f727a1",
   "metadata": {},
   "outputs": [],
   "source": []
  },
  {
   "cell_type": "code",
   "execution_count": null,
   "id": "0f823a26",
   "metadata": {},
   "outputs": [],
   "source": []
  },
  {
   "cell_type": "markdown",
   "id": "10680792",
   "metadata": {},
   "source": [
    "# What can you conclude about the difference in height for members of group B between South America and North America?"
   ]
  },
  {
   "cell_type": "code",
   "execution_count": 90,
   "id": "981bf6c2",
   "metadata": {},
   "outputs": [],
   "source": [
    "Southam_groupB =Southam_df.loc[Southam_df['group']=='B'] \n",
    "Northam_groupB =Northam_df.loc[Northam_df['group']=='B'] "
   ]
  },
  {
   "cell_type": "code",
   "execution_count": 121,
   "id": "6d086517",
   "metadata": {},
   "outputs": [
    {
     "data": {
      "text/html": [
       "<div>\n",
       "<style scoped>\n",
       "    .dataframe tbody tr th:only-of-type {\n",
       "        vertical-align: middle;\n",
       "    }\n",
       "\n",
       "    .dataframe tbody tr th {\n",
       "        vertical-align: top;\n",
       "    }\n",
       "\n",
       "    .dataframe thead th {\n",
       "        text-align: right;\n",
       "    }\n",
       "</style>\n",
       "<table border=\"1\" class=\"dataframe\">\n",
       "  <thead>\n",
       "    <tr style=\"text-align: right;\">\n",
       "      <th></th>\n",
       "      <th>id</th>\n",
       "      <th>country</th>\n",
       "      <th>continent</th>\n",
       "      <th>group</th>\n",
       "      <th>height_cm</th>\n",
       "    </tr>\n",
       "  </thead>\n",
       "  <tbody>\n",
       "    <tr>\n",
       "      <th>15</th>\n",
       "      <td>15878</td>\n",
       "      <td>Paraguay</td>\n",
       "      <td>South America</td>\n",
       "      <td>B</td>\n",
       "      <td>174</td>\n",
       "    </tr>\n",
       "    <tr>\n",
       "      <th>28</th>\n",
       "      <td>13332</td>\n",
       "      <td>Suriname</td>\n",
       "      <td>South America</td>\n",
       "      <td>B</td>\n",
       "      <td>176</td>\n",
       "    </tr>\n",
       "    <tr>\n",
       "      <th>58</th>\n",
       "      <td>9720</td>\n",
       "      <td>Brazil</td>\n",
       "      <td>South America</td>\n",
       "      <td>B</td>\n",
       "      <td>175</td>\n",
       "    </tr>\n",
       "    <tr>\n",
       "      <th>60</th>\n",
       "      <td>7860</td>\n",
       "      <td>Brazil</td>\n",
       "      <td>South America</td>\n",
       "      <td>B</td>\n",
       "      <td>176</td>\n",
       "    </tr>\n",
       "    <tr>\n",
       "      <th>61</th>\n",
       "      <td>2990</td>\n",
       "      <td>Argentina</td>\n",
       "      <td>South America</td>\n",
       "      <td>B</td>\n",
       "      <td>176</td>\n",
       "    </tr>\n",
       "    <tr>\n",
       "      <th>...</th>\n",
       "      <td>...</td>\n",
       "      <td>...</td>\n",
       "      <td>...</td>\n",
       "      <td>...</td>\n",
       "      <td>...</td>\n",
       "    </tr>\n",
       "    <tr>\n",
       "      <th>18268</th>\n",
       "      <td>12374</td>\n",
       "      <td>Ecuador</td>\n",
       "      <td>South America</td>\n",
       "      <td>B</td>\n",
       "      <td>167</td>\n",
       "    </tr>\n",
       "    <tr>\n",
       "      <th>18389</th>\n",
       "      <td>17954</td>\n",
       "      <td>Ecuador</td>\n",
       "      <td>South America</td>\n",
       "      <td>B</td>\n",
       "      <td>167</td>\n",
       "    </tr>\n",
       "    <tr>\n",
       "      <th>18399</th>\n",
       "      <td>7826</td>\n",
       "      <td>Argentina</td>\n",
       "      <td>South America</td>\n",
       "      <td>B</td>\n",
       "      <td>176</td>\n",
       "    </tr>\n",
       "    <tr>\n",
       "      <th>18513</th>\n",
       "      <td>18368</td>\n",
       "      <td>Guyana</td>\n",
       "      <td>South America</td>\n",
       "      <td>B</td>\n",
       "      <td>173</td>\n",
       "    </tr>\n",
       "    <tr>\n",
       "      <th>18590</th>\n",
       "      <td>3704</td>\n",
       "      <td>Uruguay</td>\n",
       "      <td>South America</td>\n",
       "      <td>B</td>\n",
       "      <td>174</td>\n",
       "    </tr>\n",
       "  </tbody>\n",
       "</table>\n",
       "<p>600 rows × 5 columns</p>\n",
       "</div>"
      ],
      "text/plain": [
       "          id    country      continent group  height_cm\n",
       "15     15878   Paraguay  South America     B        174\n",
       "28     13332   Suriname  South America     B        176\n",
       "58      9720     Brazil  South America     B        175\n",
       "60      7860     Brazil  South America     B        176\n",
       "61      2990  Argentina  South America     B        176\n",
       "...      ...        ...            ...   ...        ...\n",
       "18268  12374    Ecuador  South America     B        167\n",
       "18389  17954    Ecuador  South America     B        167\n",
       "18399   7826  Argentina  South America     B        176\n",
       "18513  18368     Guyana  South America     B        173\n",
       "18590   3704    Uruguay  South America     B        174\n",
       "\n",
       "[600 rows x 5 columns]"
      ]
     },
     "execution_count": 121,
     "metadata": {},
     "output_type": "execute_result"
    }
   ],
   "source": [
    "Southam_groupB"
   ]
  },
  {
   "cell_type": "code",
   "execution_count": 122,
   "id": "20cc48c6",
   "metadata": {},
   "outputs": [
    {
     "data": {
      "text/html": [
       "<div>\n",
       "<style scoped>\n",
       "    .dataframe tbody tr th:only-of-type {\n",
       "        vertical-align: middle;\n",
       "    }\n",
       "\n",
       "    .dataframe tbody tr th {\n",
       "        vertical-align: top;\n",
       "    }\n",
       "\n",
       "    .dataframe thead th {\n",
       "        text-align: right;\n",
       "    }\n",
       "</style>\n",
       "<table border=\"1\" class=\"dataframe\">\n",
       "  <thead>\n",
       "    <tr style=\"text-align: right;\">\n",
       "      <th></th>\n",
       "      <th>id</th>\n",
       "      <th>country</th>\n",
       "      <th>continent</th>\n",
       "      <th>group</th>\n",
       "      <th>height_cm</th>\n",
       "    </tr>\n",
       "  </thead>\n",
       "  <tbody>\n",
       "    <tr>\n",
       "      <th>3</th>\n",
       "      <td>9578</td>\n",
       "      <td>Saint Vincent and the Grenadines</td>\n",
       "      <td>North America</td>\n",
       "      <td>B</td>\n",
       "      <td>179</td>\n",
       "    </tr>\n",
       "    <tr>\n",
       "      <th>34</th>\n",
       "      <td>7572</td>\n",
       "      <td>Grenada</td>\n",
       "      <td>North America</td>\n",
       "      <td>B</td>\n",
       "      <td>176</td>\n",
       "    </tr>\n",
       "    <tr>\n",
       "      <th>40</th>\n",
       "      <td>1762</td>\n",
       "      <td>Saint Kitts and Nevis</td>\n",
       "      <td>North America</td>\n",
       "      <td>B</td>\n",
       "      <td>174</td>\n",
       "    </tr>\n",
       "    <tr>\n",
       "      <th>51</th>\n",
       "      <td>12490</td>\n",
       "      <td>Mexico</td>\n",
       "      <td>North America</td>\n",
       "      <td>B</td>\n",
       "      <td>170</td>\n",
       "    </tr>\n",
       "    <tr>\n",
       "      <th>53</th>\n",
       "      <td>8318</td>\n",
       "      <td>Guatemala</td>\n",
       "      <td>North America</td>\n",
       "      <td>B</td>\n",
       "      <td>164</td>\n",
       "    </tr>\n",
       "    <tr>\n",
       "      <th>...</th>\n",
       "      <td>...</td>\n",
       "      <td>...</td>\n",
       "      <td>...</td>\n",
       "      <td>...</td>\n",
       "      <td>...</td>\n",
       "    </tr>\n",
       "    <tr>\n",
       "      <th>18499</th>\n",
       "      <td>16126</td>\n",
       "      <td>Greenland</td>\n",
       "      <td>North America</td>\n",
       "      <td>B</td>\n",
       "      <td>172</td>\n",
       "    </tr>\n",
       "    <tr>\n",
       "      <th>18552</th>\n",
       "      <td>10770</td>\n",
       "      <td>United States</td>\n",
       "      <td>North America</td>\n",
       "      <td>B</td>\n",
       "      <td>177</td>\n",
       "    </tr>\n",
       "    <tr>\n",
       "      <th>18555</th>\n",
       "      <td>1956</td>\n",
       "      <td>Dominican Republic</td>\n",
       "      <td>North America</td>\n",
       "      <td>B</td>\n",
       "      <td>175</td>\n",
       "    </tr>\n",
       "    <tr>\n",
       "      <th>18574</th>\n",
       "      <td>13848</td>\n",
       "      <td>Cuba</td>\n",
       "      <td>North America</td>\n",
       "      <td>B</td>\n",
       "      <td>173</td>\n",
       "    </tr>\n",
       "    <tr>\n",
       "      <th>18579</th>\n",
       "      <td>17140</td>\n",
       "      <td>Barbados</td>\n",
       "      <td>North America</td>\n",
       "      <td>B</td>\n",
       "      <td>173</td>\n",
       "    </tr>\n",
       "  </tbody>\n",
       "</table>\n",
       "<p>1250 rows × 5 columns</p>\n",
       "</div>"
      ],
      "text/plain": [
       "          id                           country      continent group  height_cm\n",
       "3       9578  Saint Vincent and the Grenadines  North America     B        179\n",
       "34      7572                           Grenada  North America     B        176\n",
       "40      1762             Saint Kitts and Nevis  North America     B        174\n",
       "51     12490                            Mexico  North America     B        170\n",
       "53      8318                         Guatemala  North America     B        164\n",
       "...      ...                               ...            ...   ...        ...\n",
       "18499  16126                         Greenland  North America     B        172\n",
       "18552  10770                     United States  North America     B        177\n",
       "18555   1956                Dominican Republic  North America     B        175\n",
       "18574  13848                              Cuba  North America     B        173\n",
       "18579  17140                          Barbados  North America     B        173\n",
       "\n",
       "[1250 rows x 5 columns]"
      ]
     },
     "execution_count": 122,
     "metadata": {},
     "output_type": "execute_result"
    }
   ],
   "source": [
    "Northam_groupB "
   ]
  },
  {
   "cell_type": "code",
   "execution_count": 92,
   "id": "373beb12",
   "metadata": {},
   "outputs": [
    {
     "data": {
      "text/plain": [
       "count    600.000000\n",
       "mean     171.678333\n",
       "std        3.239705\n",
       "min      164.000000\n",
       "25%      170.000000\n",
       "50%      172.000000\n",
       "75%      174.000000\n",
       "max      178.000000\n",
       "Name: height_cm, dtype: float64"
      ]
     },
     "execution_count": 92,
     "metadata": {},
     "output_type": "execute_result"
    }
   ],
   "source": [
    "Southam_groupB.height_cm.describe(include='all').T"
   ]
  },
  {
   "cell_type": "code",
   "execution_count": 93,
   "id": "4ccb0caf",
   "metadata": {},
   "outputs": [
    {
     "data": {
      "text/plain": [
       "count    1250.000000\n",
       "mean      174.096800\n",
       "std         4.824153\n",
       "min       161.000000\n",
       "25%       171.000000\n",
       "50%       174.000000\n",
       "75%       177.000000\n",
       "max       191.000000\n",
       "Name: height_cm, dtype: float64"
      ]
     },
     "execution_count": 93,
     "metadata": {},
     "output_type": "execute_result"
    }
   ],
   "source": [
    "Northam_groupB.height_cm.describe(include='all').T"
   ]
  },
  {
   "cell_type": "code",
   "execution_count": 94,
   "id": "82b1d7e0",
   "metadata": {},
   "outputs": [],
   "source": [
    "df_combined = pd.concat([Southam_groupB, Northam_groupB])"
   ]
  },
  {
   "cell_type": "code",
   "execution_count": 98,
   "id": "b3023632",
   "metadata": {},
   "outputs": [],
   "source": [
    "dataset = df_combined.drop(['id','country','group'], axis = 1)"
   ]
  },
  {
   "cell_type": "code",
   "execution_count": 101,
   "id": "900980ad",
   "metadata": {},
   "outputs": [
    {
     "data": {
      "text/html": [
       "<div>\n",
       "<style scoped>\n",
       "    .dataframe tbody tr th:only-of-type {\n",
       "        vertical-align: middle;\n",
       "    }\n",
       "\n",
       "    .dataframe tbody tr th {\n",
       "        vertical-align: top;\n",
       "    }\n",
       "\n",
       "    .dataframe thead th {\n",
       "        text-align: right;\n",
       "    }\n",
       "</style>\n",
       "<table border=\"1\" class=\"dataframe\">\n",
       "  <thead>\n",
       "    <tr style=\"text-align: right;\">\n",
       "      <th></th>\n",
       "      <th>continent</th>\n",
       "      <th>height_cm</th>\n",
       "    </tr>\n",
       "  </thead>\n",
       "  <tbody>\n",
       "    <tr>\n",
       "      <th>15</th>\n",
       "      <td>South America</td>\n",
       "      <td>174</td>\n",
       "    </tr>\n",
       "    <tr>\n",
       "      <th>28</th>\n",
       "      <td>South America</td>\n",
       "      <td>176</td>\n",
       "    </tr>\n",
       "    <tr>\n",
       "      <th>58</th>\n",
       "      <td>South America</td>\n",
       "      <td>175</td>\n",
       "    </tr>\n",
       "    <tr>\n",
       "      <th>60</th>\n",
       "      <td>South America</td>\n",
       "      <td>176</td>\n",
       "    </tr>\n",
       "    <tr>\n",
       "      <th>61</th>\n",
       "      <td>South America</td>\n",
       "      <td>176</td>\n",
       "    </tr>\n",
       "    <tr>\n",
       "      <th>...</th>\n",
       "      <td>...</td>\n",
       "      <td>...</td>\n",
       "    </tr>\n",
       "    <tr>\n",
       "      <th>18499</th>\n",
       "      <td>North America</td>\n",
       "      <td>172</td>\n",
       "    </tr>\n",
       "    <tr>\n",
       "      <th>18552</th>\n",
       "      <td>North America</td>\n",
       "      <td>177</td>\n",
       "    </tr>\n",
       "    <tr>\n",
       "      <th>18555</th>\n",
       "      <td>North America</td>\n",
       "      <td>175</td>\n",
       "    </tr>\n",
       "    <tr>\n",
       "      <th>18574</th>\n",
       "      <td>North America</td>\n",
       "      <td>173</td>\n",
       "    </tr>\n",
       "    <tr>\n",
       "      <th>18579</th>\n",
       "      <td>North America</td>\n",
       "      <td>173</td>\n",
       "    </tr>\n",
       "  </tbody>\n",
       "</table>\n",
       "<p>1850 rows × 2 columns</p>\n",
       "</div>"
      ],
      "text/plain": [
       "           continent  height_cm\n",
       "15     South America        174\n",
       "28     South America        176\n",
       "58     South America        175\n",
       "60     South America        176\n",
       "61     South America        176\n",
       "...              ...        ...\n",
       "18499  North America        172\n",
       "18552  North America        177\n",
       "18555  North America        175\n",
       "18574  North America        173\n",
       "18579  North America        173\n",
       "\n",
       "[1850 rows x 2 columns]"
      ]
     },
     "execution_count": 101,
     "metadata": {},
     "output_type": "execute_result"
    }
   ],
   "source": [
    "dataset"
   ]
  },
  {
   "cell_type": "code",
   "execution_count": null,
   "id": "72e5699a",
   "metadata": {},
   "outputs": [],
   "source": []
  },
  {
   "cell_type": "code",
   "execution_count": 120,
   "id": "05e6a998",
   "metadata": {},
   "outputs": [
    {
     "data": {
      "image/png": "[encoded data removed]",
      "text/plain": [
       "<Figure size 1080x432 with 1 Axes>"
      ]
     },
     "metadata": {
      "needs_background": "light"
     },
     "output_type": "display_data"
    }
   ],
   "source": [
    "plt.subplots(figsize = (15,6))\n",
    "dataset.groupby('continent')[\"height_cm\"].mean().sort_values(ascending = False).plot.bar(rot=0)\n",
    "plt.title(\"South & North America Group B Height\");"
   ]
  },
  {
   "cell_type": "code",
   "execution_count": null,
   "id": "67bb11d9",
   "metadata": {},
   "outputs": [],
   "source": []
  }
 ],
 "metadata": {
  "kernelspec": {
   "display_name": "Python 3 (ipykernel)",
   "language": "python",
   "name": "python3"
  },
  "language_info": {
   "codemirror_mode": {
    "name": "ipython",
    "version": 3
   },
   "file_extension": ".py",
   "mimetype": "text/x-python",
   "name": "python",
   "nbconvert_exporter": "python",
   "pygments_lexer": "ipython3",
   "version": "3.8.8"
  }
 },
 "nbformat": 4,
 "nbformat_minor": 5
}
